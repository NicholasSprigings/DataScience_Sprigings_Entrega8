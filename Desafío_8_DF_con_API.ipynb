{
  "nbformat": 4,
  "nbformat_minor": 0,
  "metadata": {
    "colab": {
      "provenance": []
    },
    "kernelspec": {
      "name": "python3",
      "display_name": "Python 3"
    },
    "language_info": {
      "name": "python"
    }
  },
  "cells": [
    {
      "cell_type": "markdown",
      "source": [
        "**API del Gobierno de la Ciudad**"
      ],
      "metadata": {
        "id": "Yx8XZEcWXBEX"
      }
    },
    {
      "cell_type": "code",
      "source": [
        "import pandas as pd\n",
        "import requests\n",
        "import json\n",
        "\n",
        "url = \"https://datosabiertos-usig-apis.buenosaires.gob.ar/datos_utiles?calle=CABILDO%20AV.&altura=1500\"\n",
        "\n",
        "response = requests.get(url)\n",
        "if response.status_code == 200:\n",
        "    print(response.json())\n",
        "else:\n",
        "    print(f\"Error: {response.status_code}\")"
      ],
      "metadata": {
        "colab": {
          "base_uri": "https://localhost:8080/"
        },
        "id": "TjO801w7Xg2l",
        "outputId": "19c3c871-1683-4fce-a38a-28d3d50b07b1"
      },
      "execution_count": 19,
      "outputs": [
        {
          "output_type": "stream",
          "name": "stdout",
          "text": [
            "{'comuna': 'Comuna 13', 'barrio': 'Colegiales', 'comisaria': '33', 'area_hospitalaria': 'HTAL. DR. PIROVANO', 'region_sanitaria': 'IV (Norte)', 'distrito_escolar': 'Distrito Escolar   IX', 'comisaria_vecinal': '13A', 'seccion_catastral': '37', 'distrito_economico': '', 'codigo_de_planeamiento_urbano': '', 'partido_amba': '', 'localidad_amba': '', 'codigo_postal': '1426', 'codigo_postal_argentino': 'C1426ABO'}\n"
          ]
        }
      ]
    },
    {
      "cell_type": "code",
      "source": [
        "response.text"
      ],
      "metadata": {
        "colab": {
          "base_uri": "https://localhost:8080/",
          "height": 73
        },
        "id": "KmyBQTkmXpkT",
        "outputId": "45b24957-b807-43bd-f222-fc158e24c46b"
      },
      "execution_count": 20,
      "outputs": [
        {
          "output_type": "execute_result",
          "data": {
            "text/plain": [
              "'{\"comuna\":\"Comuna 13\",\"barrio\":\"Colegiales\",\"comisaria\":\"33\",\"area_hospitalaria\":\"HTAL. DR. PIROVANO\",\"region_sanitaria\":\"IV (Norte)\",\"distrito_escolar\":\"Distrito Escolar   IX\",\"comisaria_vecinal\":\"13A\",\"seccion_catastral\":\"37\",\"distrito_economico\":\"\",\"codigo_de_planeamiento_urbano\":\"\",\"partido_amba\":\"\",\"localidad_amba\":\"\",\"codigo_postal\":\"1426\",\"codigo_postal_argentino\":\"C1426ABO\"}'"
            ],
            "application/vnd.google.colaboratory.intrinsic+json": {
              "type": "string"
            }
          },
          "metadata": {},
          "execution_count": 20
        }
      ]
    },
    {
      "cell_type": "code",
      "source": [
        "texto = response.text\n",
        "jsondata = json.loads(texto)\n",
        "df = pd.DataFrame([jsondata])\n",
        "# Genero el DataFrame\n",
        "df.head()"
      ],
      "metadata": {
        "colab": {
          "base_uri": "https://localhost:8080/",
          "height": 118
        },
        "id": "bsx7X-uzXvs1",
        "outputId": "45236969-6348-48c5-a587-4acd6e9833a4"
      },
      "execution_count": 21,
      "outputs": [
        {
          "output_type": "execute_result",
          "data": {
            "text/plain": [
              "      comuna      barrio comisaria   area_hospitalaria region_sanitaria  \\\n",
              "0  Comuna 13  Colegiales        33  HTAL. DR. PIROVANO       IV (Norte)   \n",
              "\n",
              "        distrito_escolar comisaria_vecinal seccion_catastral  \\\n",
              "0  Distrito Escolar   IX               13A                37   \n",
              "\n",
              "  distrito_economico codigo_de_planeamiento_urbano partido_amba  \\\n",
              "0                                                                 \n",
              "\n",
              "  localidad_amba codigo_postal codigo_postal_argentino  \n",
              "0                         1426                C1426ABO  "
            ],
            "text/html": [
              "\n",
              "  <div id=\"df-e2df3290-39c6-48a4-88d0-fa4b68d1bc70\" class=\"colab-df-container\">\n",
              "    <div>\n",
              "<style scoped>\n",
              "    .dataframe tbody tr th:only-of-type {\n",
              "        vertical-align: middle;\n",
              "    }\n",
              "\n",
              "    .dataframe tbody tr th {\n",
              "        vertical-align: top;\n",
              "    }\n",
              "\n",
              "    .dataframe thead th {\n",
              "        text-align: right;\n",
              "    }\n",
              "</style>\n",
              "<table border=\"1\" class=\"dataframe\">\n",
              "  <thead>\n",
              "    <tr style=\"text-align: right;\">\n",
              "      <th></th>\n",
              "      <th>comuna</th>\n",
              "      <th>barrio</th>\n",
              "      <th>comisaria</th>\n",
              "      <th>area_hospitalaria</th>\n",
              "      <th>region_sanitaria</th>\n",
              "      <th>distrito_escolar</th>\n",
              "      <th>comisaria_vecinal</th>\n",
              "      <th>seccion_catastral</th>\n",
              "      <th>distrito_economico</th>\n",
              "      <th>codigo_de_planeamiento_urbano</th>\n",
              "      <th>partido_amba</th>\n",
              "      <th>localidad_amba</th>\n",
              "      <th>codigo_postal</th>\n",
              "      <th>codigo_postal_argentino</th>\n",
              "    </tr>\n",
              "  </thead>\n",
              "  <tbody>\n",
              "    <tr>\n",
              "      <th>0</th>\n",
              "      <td>Comuna 13</td>\n",
              "      <td>Colegiales</td>\n",
              "      <td>33</td>\n",
              "      <td>HTAL. DR. PIROVANO</td>\n",
              "      <td>IV (Norte)</td>\n",
              "      <td>Distrito Escolar   IX</td>\n",
              "      <td>13A</td>\n",
              "      <td>37</td>\n",
              "      <td></td>\n",
              "      <td></td>\n",
              "      <td></td>\n",
              "      <td></td>\n",
              "      <td>1426</td>\n",
              "      <td>C1426ABO</td>\n",
              "    </tr>\n",
              "  </tbody>\n",
              "</table>\n",
              "</div>\n",
              "    <div class=\"colab-df-buttons\">\n",
              "\n",
              "  <div class=\"colab-df-container\">\n",
              "    <button class=\"colab-df-convert\" onclick=\"convertToInteractive('df-e2df3290-39c6-48a4-88d0-fa4b68d1bc70')\"\n",
              "            title=\"Convert this dataframe to an interactive table.\"\n",
              "            style=\"display:none;\">\n",
              "\n",
              "  <svg xmlns=\"http://www.w3.org/2000/svg\" height=\"24px\" viewBox=\"0 -960 960 960\">\n",
              "    <path d=\"M120-120v-720h720v720H120Zm60-500h600v-160H180v160Zm220 220h160v-160H400v160Zm0 220h160v-160H400v160ZM180-400h160v-160H180v160Zm440 0h160v-160H620v160ZM180-180h160v-160H180v160Zm440 0h160v-160H620v160Z\"/>\n",
              "  </svg>\n",
              "    </button>\n",
              "\n",
              "  <style>\n",
              "    .colab-df-container {\n",
              "      display:flex;\n",
              "      gap: 12px;\n",
              "    }\n",
              "\n",
              "    .colab-df-convert {\n",
              "      background-color: #E8F0FE;\n",
              "      border: none;\n",
              "      border-radius: 50%;\n",
              "      cursor: pointer;\n",
              "      display: none;\n",
              "      fill: #1967D2;\n",
              "      height: 32px;\n",
              "      padding: 0 0 0 0;\n",
              "      width: 32px;\n",
              "    }\n",
              "\n",
              "    .colab-df-convert:hover {\n",
              "      background-color: #E2EBFA;\n",
              "      box-shadow: 0px 1px 2px rgba(60, 64, 67, 0.3), 0px 1px 3px 1px rgba(60, 64, 67, 0.15);\n",
              "      fill: #174EA6;\n",
              "    }\n",
              "\n",
              "    .colab-df-buttons div {\n",
              "      margin-bottom: 4px;\n",
              "    }\n",
              "\n",
              "    [theme=dark] .colab-df-convert {\n",
              "      background-color: #3B4455;\n",
              "      fill: #D2E3FC;\n",
              "    }\n",
              "\n",
              "    [theme=dark] .colab-df-convert:hover {\n",
              "      background-color: #434B5C;\n",
              "      box-shadow: 0px 1px 3px 1px rgba(0, 0, 0, 0.15);\n",
              "      filter: drop-shadow(0px 1px 2px rgba(0, 0, 0, 0.3));\n",
              "      fill: #FFFFFF;\n",
              "    }\n",
              "  </style>\n",
              "\n",
              "    <script>\n",
              "      const buttonEl =\n",
              "        document.querySelector('#df-e2df3290-39c6-48a4-88d0-fa4b68d1bc70 button.colab-df-convert');\n",
              "      buttonEl.style.display =\n",
              "        google.colab.kernel.accessAllowed ? 'block' : 'none';\n",
              "\n",
              "      async function convertToInteractive(key) {\n",
              "        const element = document.querySelector('#df-e2df3290-39c6-48a4-88d0-fa4b68d1bc70');\n",
              "        const dataTable =\n",
              "          await google.colab.kernel.invokeFunction('convertToInteractive',\n",
              "                                                    [key], {});\n",
              "        if (!dataTable) return;\n",
              "\n",
              "        const docLinkHtml = 'Like what you see? Visit the ' +\n",
              "          '<a target=\"_blank\" href=https://colab.research.google.com/notebooks/data_table.ipynb>data table notebook</a>'\n",
              "          + ' to learn more about interactive tables.';\n",
              "        element.innerHTML = '';\n",
              "        dataTable['output_type'] = 'display_data';\n",
              "        await google.colab.output.renderOutput(dataTable, element);\n",
              "        const docLink = document.createElement('div');\n",
              "        docLink.innerHTML = docLinkHtml;\n",
              "        element.appendChild(docLink);\n",
              "      }\n",
              "    </script>\n",
              "  </div>\n",
              "\n",
              "    </div>\n",
              "  </div>\n"
            ]
          },
          "metadata": {},
          "execution_count": 21
        }
      ]
    }
  ]
}